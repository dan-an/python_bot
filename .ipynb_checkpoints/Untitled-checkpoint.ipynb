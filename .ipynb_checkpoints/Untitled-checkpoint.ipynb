{
 "cells": [
  {
   "cell_type": "code",
   "execution_count": 1,
   "metadata": {},
   "outputs": [],
   "source": [
    "import requests\n",
    "import misc\n",
    "import json"
   ]
  },
  {
   "cell_type": "code",
   "execution_count": 3,
   "metadata": {},
   "outputs": [],
   "source": [
    "trello_token = misc.token['trello']\n",
    "trello_api_key = misc.api_key['trello']\n",
    "url = 'https://api.trello.com/1/'\n",
    "\n",
    "\n",
    "params = {\n",
    "  'key': trello_api_key,\n",
    "  'token': trello_token\n",
    "}"
   ]
  },
  {
   "cell_type": "code",
   "execution_count": 18,
   "metadata": {},
   "outputs": [
    {
     "ename": "SyntaxError",
     "evalue": "invalid syntax (<ipython-input-18-e12ca9a5e4c6>, line 14)",
     "output_type": "error",
     "traceback": [
      "\u001b[0;36m  File \u001b[0;32m\"<ipython-input-18-e12ca9a5e4c6>\"\u001b[0;36m, line \u001b[0;32m14\u001b[0m\n\u001b[0;31m    self.labels = [if label != '' for label in bot_board['labelNames'].values()]\u001b[0m\n\u001b[0m                   ^\u001b[0m\n\u001b[0;31mSyntaxError\u001b[0m\u001b[0;31m:\u001b[0m invalid syntax\n"
     ]
    }
   ],
   "source": [
    "class Board():\n",
    "  def __init__(self, name):\n",
    "    self.board_name = name\n",
    "    self.id = None\n",
    "    self.lists = None\n",
    "    self.labels = None\n",
    "    self.get_bot_board(url, params)\n",
    "    \n",
    "  def get_bot_board(self, url, params):\n",
    "    response = requests.get(url + 'members/me/boards', params=params)\n",
    "    board_list = response.json()\n",
    "    bot_board = next(board for board in board_list if board['name'] == self.board_name)\n",
    "    self.id = bot_board['id']\n",
    "    self.labels = [label for label in bot_board['labelNames'].values() if label != '']\n",
    "    print(self.labels)\n",
    "    return bot_board\n",
    "\n",
    "  def get_board_lists(self, url, params):\n",
    "    response = requests.get(url + 'boards/' + self.id + '/lists', params=params)\n",
    "    self.lists = response.json()\n",
    "    return response.json()\n",
    "\n",
    "class List():\n",
    "  def __init__(self, board_lists, list_name):\n",
    "    self.name = list_name\n",
    "    self.id = next(list for list in board_lists if list['name'] == self.name)['id']\n",
    "\n",
    "class Card():\n",
    "  def __init__(self, name, description):\n",
    "    self.name = name\n",
    "    # self.description = description\n",
    "    # self.labels = labels\n",
    "  \n",
    "  def post_card(self, url, params, list_id):\n",
    "    params['idList'] = list_id\n",
    "    params['name'] = self.name\n",
    "    params['desc'] = self.description\n",
    "    # params['idLabels'] = self.labels\n",
    "\n",
    "    requests.post(url + '/cards', params=params)"
   ]
  },
  {
   "cell_type": "code",
   "execution_count": 17,
   "metadata": {},
   "outputs": [
    {
     "name": "stdout",
     "output_type": "stream",
     "text": [
      "{'', 'еуые'}\n"
     ]
    },
    {
     "data": {
      "text/plain": [
       "<__main__.Card at 0x106fe17c0>"
      ]
     },
     "execution_count": 17,
     "metadata": {},
     "output_type": "execute_result"
    }
   ],
   "source": [
    "board = Board('Для бота')\n",
    "list = List(board.get_board_lists(url, params), 'Не смотрели')\n",
    "Card('123', '456')"
   ]
  },
  {
   "cell_type": "code",
   "execution_count": null,
   "metadata": {},
   "outputs": [],
   "source": []
  },
  {
   "cell_type": "code",
   "execution_count": null,
   "metadata": {},
   "outputs": [],
   "source": []
  },
  {
   "cell_type": "code",
   "execution_count": null,
   "metadata": {},
   "outputs": [],
   "source": []
  }
 ],
 "metadata": {
  "kernelspec": {
   "display_name": "Python 3",
   "language": "python",
   "name": "python3"
  },
  "language_info": {
   "codemirror_mode": {
    "name": "ipython",
    "version": 3
   },
   "file_extension": ".py",
   "mimetype": "text/x-python",
   "name": "python",
   "nbconvert_exporter": "python",
   "pygments_lexer": "ipython3",
   "version": "3.8.0"
  }
 },
 "nbformat": 4,
 "nbformat_minor": 2
}
